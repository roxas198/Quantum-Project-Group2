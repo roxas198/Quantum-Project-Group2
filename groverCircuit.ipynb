{
 "cells": [
  {
   "cell_type": "code",
   "execution_count": 3,
   "metadata": {},
   "outputs": [
    {
     "data": {
      "text/plain": [
       "'% \\\\documentclass[preview]{standalone}\\n% If the image is too large to fit on this documentclass use\\n\\\\documentclass[draft]{beamer}\\n% img_width = 5, img_depth = 16\\n\\\\usepackage[size=custom,height=10,width=550,scale=0.7]{beamerposter}\\n% instead and customize the height and width (in cm) to fit.\\n% Large images may run out of memory quickly.\\n% To fix this use the LuaLaTeX compiler, which dynamically\\n% allocates memory.\\n\\\\usepackage[braket, qm]{qcircuit}\\n\\\\usepackage{amsmath}\\n\\\\pdfmapfile{+sansmathaccent.map}\\n% \\\\usepackage[landscape]{geometry}\\n% Comment out the above line if using the beamer documentclass.\\n\\\\begin{document}\\n\\n\\\\begin{equation*}\\n    \\\\Qcircuit @C=1.0em @R=0.0em @!R {\\n\\t \\t\\\\lstick{ {q}_{0} :  } & \\\\gate{H} & \\\\multigate{3}{unitary} & \\\\gate{H} & \\\\gate{X} & \\\\gate{id} & \\\\ctrl{1} & \\\\gate{id} & \\\\gate{X} & \\\\gate{H} \\\\barrier[0em]{3} & \\\\qw & \\\\meter & \\\\qw & \\\\qw & \\\\qw & \\\\qw & \\\\qw\\\\\\\\\\n\\t \\t\\\\lstick{ {q}_{1} :  } & \\\\gate{H} & \\\\ghost{unitary} & \\\\gate{H} & \\\\gate{X} & \\\\gate{id} & \\\\ctrl{1} & \\\\gate{id} & \\\\gate{X} & \\\\gate{H} & \\\\qw & \\\\qw & \\\\meter & \\\\qw & \\\\qw & \\\\qw & \\\\qw\\\\\\\\\\n\\t \\t\\\\lstick{ {q}_{2} :  } & \\\\gate{H} & \\\\ghost{unitary} & \\\\gate{H} & \\\\gate{X} & \\\\gate{id} & \\\\ctrl{1} & \\\\gate{id} & \\\\gate{X} & \\\\gate{H} & \\\\qw & \\\\qw & \\\\qw & \\\\meter & \\\\qw & \\\\qw & \\\\qw\\\\\\\\\\n\\t \\t\\\\lstick{ {q}_{3} :  } & \\\\gate{H} & \\\\ghost{unitary} & \\\\gate{H} & \\\\gate{X} & \\\\gate{H} & \\\\gate{X} & \\\\gate{H} & \\\\gate{X} & \\\\gate{H} & \\\\qw & \\\\qw & \\\\qw & \\\\qw & \\\\meter & \\\\qw & \\\\qw\\\\\\\\\\n\\t \\t\\\\lstick{meas:} & {/_{_{4}}} \\\\cw & \\\\cw & \\\\cw & \\\\cw & \\\\cw & \\\\cw & \\\\cw & \\\\cw & \\\\cw & \\\\cw & \\\\dstick{0} \\\\cw \\\\cwx[-4] & \\\\dstick{1} \\\\cw \\\\cwx[-3] & \\\\dstick{2} \\\\cw \\\\cwx[-2] & \\\\dstick{3} \\\\cw \\\\cwx[-1] & \\\\cw & \\\\cw\\\\\\\\\\n\\t }\\n\\\\end{equation*}\\n\\n\\\\end{document}'"
      ]
     },
     "execution_count": 3,
     "metadata": {},
     "output_type": "execute_result"
    }
   ],
   "source": [
    "from qiskit import QuantumCircuit, assemble, Aer, extensions, QuantumRegister\n",
    "from qiskit.circuit.library import MCMTVChain\n",
    "from qiskit.visualization import plot_histogram, circuit_drawer\n",
    "import numpy as np\n",
    "import matplotlib.pyplot as plt\n",
    "import math\n",
    "from qiskit.circuit.library.standard_gates import XGate\n",
    "import pylatexenc\n",
    "\n",
    "#Number of qubits is 4\n",
    "nQubit = 4\n",
    "\n",
    "#Gives a permutation of a list from 0 to N-1.\n",
    "L = np.random.permutation(2**nQubit)\n",
    "#print(L)\n",
    "#Randomly select index from 0 to N-1\n",
    "y = np.random.randint(2**nQubit)\n",
    "#print(y)\n",
    "#print(math.ceil(22.5*math.sqrt(2**nQubit) + 1.4 * (math.log(2**nQubit, 2))**2))\n",
    "\n",
    "correct = 0\n",
    "incorrect = 0\n",
    "\n",
    "\n",
    "L = np.random.permutation(2**nQubit)\n",
    "y = np.random.randint(2**nQubit)\n",
    "m = 1\n",
    "l = 6 / 5.0\n",
    "matrix = np.zeros((2**nQubit,2**nQubit))\n",
    "for i in range(2**nQubit):\n",
    "    if (L[i] >= L[y]):\n",
    "        matrix[i][i] = 1\n",
    "    else:\n",
    "        matrix[i][i] = -1\n",
    "\n",
    "#print(matrix)\n",
    "oracle = extensions.UnitaryGate(matrix)\n",
    "#Initialize the circuit for Grover's Algorithm\n",
    "groverAlgorithm = QuantumCircuit(nQubit)\n",
    "\n",
    "#Apply Hadamard transform to all qubits. This gives the quantum superposition for ampltiude amplification\n",
    "#That is, gives the state of 1/sqrt(N) sum_{x=0}^{N-1} |x>, where N = 2^nQubit\n",
    "groverAlgorithm.h(range(nQubit))\n",
    "\n",
    "\n",
    "\n",
    "#Applies the oracle\n",
    "groverAlgorithm.unitary(oracle, range(nQubit))\n",
    "\n",
    "#Applies Grover's Algorithm\n",
    "#for j in range(100):\n",
    "\n",
    "groverAlgorithm.h(range(nQubit))\n",
    "groverAlgorithm.x(range(nQubit))\n",
    "groverAlgorithm.i(range(nQubit-1))\n",
    "groverAlgorithm.h(nQubit-1)\n",
    "#Need to make this a toffoli gate that uses nQubit-1 control bits on the final qubit\n",
    "#groverAlgorithm.toffoli(0, 1, 2)\n",
    "c3z = XGate().control(3)\n",
    "groverAlgorithm.append(c3z, [0,1,2,3])\n",
    "groverAlgorithm.i(range(nQubit-1))\n",
    "groverAlgorithm.h(nQubit-1)\n",
    "\n",
    "groverAlgorithm.x(range(nQubit))\n",
    "groverAlgorithm.h(range(nQubit))\n",
    "groverAlgorithm.measure_all()\n",
    "#Prints out circuit\n",
    "circuit_drawer(groverAlgorithm, output=\"latex_source\")\n"
   ]
  },
  {
   "cell_type": "code",
   "execution_count": null,
   "metadata": {},
   "outputs": [],
   "source": []
  },
  {
   "cell_type": "code",
   "execution_count": null,
   "metadata": {},
   "outputs": [],
   "source": []
  }
 ],
 "metadata": {
  "kernelspec": {
   "display_name": "Python 3",
   "language": "python",
   "name": "python3"
  },
  "language_info": {
   "codemirror_mode": {
    "name": "ipython",
    "version": 3
   },
   "file_extension": ".py",
   "mimetype": "text/x-python",
   "name": "python",
   "nbconvert_exporter": "python",
   "pygments_lexer": "ipython3",
   "version": "3.7.4"
  }
 },
 "nbformat": 4,
 "nbformat_minor": 2
}
